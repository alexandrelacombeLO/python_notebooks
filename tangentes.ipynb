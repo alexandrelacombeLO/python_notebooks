{
 "cells": [
  {
   "cell_type": "code",
   "execution_count": null,
   "metadata": {},
   "outputs": [],
   "source": [
    "import numpy as np\n",
    "import pandas as pd\n",
    "import matplotlib.pyplot as plt\n",
    "import seaborn as sns\n",
    "sns.set()\n",
    "import os\n",
    "from tkinter import Tk, Button, filedialog\n",
    "%matplotlib inline\n",
    "\n",
    "def display():\n",
    "    global FICHIER, FENETRE\n",
    "    FICHIER = filedialog.askopenfilename(filetypes=((\"all files\", \"*.txt\"),))\n",
    "    FENETRE.destroy()\n",
    "\n",
    "FENETRE = Tk() \n",
    "button = Button(FENETRE, text='Choisissez un fichier :', command=display)\n",
    "button.pack()\n",
    "FENETRE.mainloop() \n",
    "\n",
    "\"\"\"récupère les données du txt choisi\"\"\"\n",
    "data = pd.read_csv(FICHIER, sep=\"\\t\", index_col=0, skiprows=2)\n",
    "\n",
    "\"\"\"calcul des tangentes plastiques et post-plastiques\"\"\"\n",
    "a_plast = (data.loc[15,\"Y\"] - data.loc[5,\"Y\"]) / 10\n",
    "b_plast = data.loc[10,\"Y\"] - a_plast * 10\n",
    "a_post = (data.loc[45,\"Y\"] - data.loc[35,\"Y\"]) / 10\n",
    "b_post = data.loc[40,\"Y\"] - a_post * 40\n",
    "tangentes = {\"plastique\":lambda x : a_plast * x + b_plast, \"post-plastique\":lambda x : a_post * x + b_post}\n",
    "\n",
    "\"\"\"création et paramètres de la zone de graphique\"\"\"\n",
    "fig = plt.figure(figsize=(10,4.5))\n",
    "ax = plt.axes()\n",
    "plt.title('Détermination de la contrainte de sollicitation à utiliser en fatigue cyclique', fontsize=14, pad=10)\n",
    "ax.set(xlim=(0, 60), ylim=(0, np.ceil(data['Y'].max() / 10) * 10))\n",
    "ax.set_xlabel('Allongement (%)', labelpad=10)\n",
    "ax.set_ylabel('Contrainte (MPa)', labelpad=15)\n",
    "\n",
    "\"\"\"tracé de la courbe de traction et des deux tangentes\"\"\"\n",
    "plt.plot(data.loc[0:70], color='b', linewidth=3)\n",
    "plt.plot(range(0,40), [tangentes['plastique'](x) for x in range(0,40)], color='r')\n",
    "plt.plot(range(20,55), [tangentes['post-plastique'](x) for x in range(20,55)], color='g')\n",
    "\n",
    "\"\"\"calcul du point d'intersection des tangentes et affichage du point avec la valeur de contrainte\"\"\"\n",
    "xi = (b_plast - b_post) / (a_post - a_plast)\n",
    "yi = tangentes['plastique'](xi)\n",
    "plt.text(yi + 2, xi - 5, f\"Contrainte = {round(yi,1)} MPa\", fontsize=12)\n",
    "plt.plot(np.linspace(0, xi, 30), np.repeat(yi, 30), color='k', linestyle='dashed')\n",
    "plt.plot(np.repeat(xi, 30), np.linspace(0, yi, 30), color='k', linestyle='dashed')\n",
    "plt.scatter(xi, yi, color='k');"
   ]
  },
  {
   "cell_type": "code",
   "execution_count": null,
   "metadata": {},
   "outputs": [],
   "source": []
  }
 ],
 "metadata": {
  "kernelspec": {
   "display_name": "Python 3",
   "language": "python",
   "name": "python3"
  },
  "language_info": {
   "codemirror_mode": {
    "name": "ipython",
    "version": 3
   },
   "file_extension": ".py",
   "mimetype": "text/x-python",
   "name": "python",
   "nbconvert_exporter": "python",
   "pygments_lexer": "ipython3",
   "version": "3.7.4"
  }
 },
 "nbformat": 4,
 "nbformat_minor": 2
}
